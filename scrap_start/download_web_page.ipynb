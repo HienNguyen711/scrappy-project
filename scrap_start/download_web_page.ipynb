{
 "cells": [
  {
   "cell_type": "code",
   "execution_count": 1,
   "metadata": {
    "collapsed": true
   },
   "outputs": [],
   "source": [
    "import urllib.request"
   ]
  },
  {
   "cell_type": "code",
   "execution_count": 3,
   "metadata": {
    "collapsed": true
   },
   "outputs": [],
   "source": [
    "def download(url):\n",
    "    print('Downloading:', url)\n",
    "    try:\n",
    "        html = urllib.request.urlopen(url).read()\n",
    "    except (URLError, HTTPError, ContentTooShortError) as e:\n",
    "        print('Download error:', e.reason)\n",
    "        html = None\n",
    "    return html"
   ]
  },
  {
   "cell_type": "code",
   "execution_count": 5,
   "metadata": {},
   "outputs": [],
   "source": [
    "def download1(url,num_retries=2):\n",
    "    try:\n",
    "        html = urllib.request.urlopen(url).read()\n",
    "    except:\n",
    "        print('Download error:', e.reason)\n",
    "        html = None \n",
    "        if num_retries > 0: \n",
    "            if hasattr(e,'code') and 500 <= e.code <600:\n",
    "                # recursively retry 5xx http errors\n",
    "                return download1(url,num_retries -1)\n",
    "                \n",
    "    return html"
   ]
  },
  {
   "cell_type": "code",
   "execution_count": 12,
   "metadata": {},
   "outputs": [],
   "source": [
    "def downloadFinal(url, user_agent='wswp', num_retries=2): \n",
    "    print('Downloading:', url) \n",
    "    request = urllib.request.Request(url) \n",
    "    request.add_header('User-agent', user_agent)\n",
    "    try: \n",
    "        html = urllib.request.urlopen(request).read() \n",
    "    except (URLError, HTTPError, ContentTooShortError) as e:\n",
    "        print('Download error:', e.reason)\n",
    "        html = None \n",
    "        if num_retries > 0: \n",
    "            if hasattr(e, 'code') and 500 <= e.code < 600: \n",
    "                # recursively retry 5xx HTTP errors \n",
    "                return download(url, num_retries - 1) \n",
    "    return html\n"
   ]
  },
  {
   "cell_type": "code",
   "execution_count": null,
   "metadata": {},
   "outputs": [],
   "source": []
  },
  {
   "cell_type": "code",
   "execution_count": null,
   "metadata": {
    "collapsed": true
   },
   "outputs": [],
   "source": []
  }
 ],
 "metadata": {
  "kernelspec": {
   "display_name": "Python 3",
   "language": "python",
   "name": "python3"
  },
  "language_info": {
   "codemirror_mode": {
    "name": "ipython",
    "version": 3
   },
   "file_extension": ".py",
   "mimetype": "text/x-python",
   "name": "python",
   "nbconvert_exporter": "python",
   "pygments_lexer": "ipython3",
   "version": "3.6.2"
  }
 },
 "nbformat": 4,
 "nbformat_minor": 2
}
