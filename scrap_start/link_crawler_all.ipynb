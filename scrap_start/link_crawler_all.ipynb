{
 "cells": [
  {
   "cell_type": "code",
   "execution_count": 6,
   "metadata": {},
   "outputs": [],
   "source": [
    "import re\n",
    "import urllib.request\n",
    "from urllib import robotparser\n",
    "from urllib.parse import urljoin\n",
    "from urllib.error import URLError, HTTPError, ContentTooShortError\n",
    "# from scrap_start.throttle import Throttle"
   ]
  },
  {
   "cell_type": "code",
   "execution_count": 7,
   "metadata": {
    "collapsed": true
   },
   "outputs": [],
   "source": [
    "#download \n",
    "def download(url, user_agent='wswp', num_retries=2, charset='utf-8', proxy=None):\n",
    "    \"\"\" Download a given URL and return the page content\n",
    "        args:\n",
    "            url (str): URL\n",
    "        kwargs:\n",
    "            user_agent (str): user agent (default: wswp)\n",
    "            charset (str): charset if website does not include one in headers\n",
    "            proxy (str): proxy url, ex 'http://IP' (default: None)\n",
    "            num_retries (int): number of retries if a 5xx error is seen (default: 2)\n",
    "    \"\"\"\n",
    "    print('Downloading:', url)\n",
    "    request = urllib.request.Request(url)\n",
    "    request.add_header('User-agent', user_agent)\n",
    "    try:\n",
    "        if proxy:\n",
    "            proxy_support = urllib.request.ProxyHandler({'http': proxy})\n",
    "            opener = urllib.request.build_opener(proxy_support)\n",
    "            urllib.request.install_opener(opener)\n",
    "        resp = urllib.request.urlopen(request)\n",
    "        cs = resp.headers.get_content_charset()\n",
    "        if not cs:\n",
    "            cs = charset\n",
    "        html = resp.read().decode(cs)\n",
    "    except (URLError, HTTPError, ContentTooShortError) as e:\n",
    "        print('Download error:', e.reason)\n",
    "        html = None\n",
    "        if num_retries > 0:\n",
    "            if hasattr(e, 'code') and 500 <= e.code < 600:\n",
    "                # recursively retry 5xx HTTP errors\n",
    "                return download(url, num_retries - 1)\n",
    "    return html"
   ]
  },
  {
   "cell_type": "code",
   "execution_count": 8,
   "metadata": {
    "collapsed": true
   },
   "outputs": [],
   "source": [
    "# get robots parser\n",
    "def get_robots_parser(robots_url):\n",
    "    # return the robots parser object \n",
    "    rp = robotparser.RobotFileParser()\n",
    "    rp.set_url(robots_url)\n",
    "    rp.read()\n",
    "    return rp"
   ]
  },
  {
   "cell_type": "code",
   "execution_count": 9,
   "metadata": {
    "collapsed": true
   },
   "outputs": [],
   "source": [
    "# get link \n",
    "def get_links(html):\n",
    "    \" Return a list of links (using simple regex matching) from the html content \"\n",
    "    # a regular expression to extract all links from the webpage\n",
    "    webpage_regex = re.compile(\"\"\"<a[^>]+href=[\"'](.*?)[\"']\"\"\", re.IGNORECASE)\n",
    "    # list of all links from the webpage\n",
    "    return webpage_regex.findall(html)\n"
   ]
  },
  {
   "cell_type": "code",
   "execution_count": null,
   "metadata": {
    "collapsed": true
   },
   "outputs": [],
   "source": [
    "#link crawler \n",
    "def link_crawler(start_url, link_regex, robots_url=None, user_agent='wswp',\n",
    "                 proxy=None, delay=3, max_depth=4):\n",
    "    # crawl from the start url following links matched by link_regex \n",
    "    \"\"\" Crawl from the given start URL following links matched by link_regex. In the current\n",
    "        implementation, we do not actually scrapy any information.\n",
    "        args:\n",
    "            start_url (str): web site to start crawl\n",
    "            link_regex (str): regex to match for links\n",
    "        kwargs:\n",
    "            robots_url (str): url of the site's robots.txt (default: start_url + /robots.txt)\n",
    "            user_agent (str): user agent (default: wswp)\n",
    "            proxy (str): proxy url, ex 'http://IP' (default: None)\n",
    "            delay (int): seconds to throttle between requests to one domain (default: 3)\n",
    "            max_depth (int): maximum crawl depth (to avoid traps) (default: 4)\n",
    "    \"\"\"\n",
    "    \"\"\"\n",
    "    # run : \n",
    "start_url = 'http://example.webscraping.com/index'\n",
    "link_regex = '/(index|view)'\n",
    "link_crawler(start_url, link_regex, user_agent='BadCrawler')\n",
    "link_crawler(start_url, link_regex, max_depth=1)\n",
    "    \"\"\"\n",
    "    # store the queue \n",
    "    \n",
    "    \n",
    "    \n",
    "    \n",
    "    \n",
    "    \n",
    "    \n",
    "    \n",
    "    \n",
    "    \n",
    "    \n",
    "    \n",
    "    "
   ]
  }
 ],
 "metadata": {
  "kernelspec": {
   "display_name": "Python 3",
   "language": "python",
   "name": "python3"
  },
  "language_info": {
   "codemirror_mode": {
    "name": "ipython",
    "version": 3
   },
   "file_extension": ".py",
   "mimetype": "text/x-python",
   "name": "python",
   "nbconvert_exporter": "python",
   "pygments_lexer": "ipython3",
   "version": "3.6.2"
  }
 },
 "nbformat": 4,
 "nbformat_minor": 2
}
