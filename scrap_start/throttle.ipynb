{
 "cells": [
  {
   "cell_type": "code",
   "execution_count": 1,
   "metadata": {
    "collapsed": true
   },
   "outputs": [],
   "source": [
    "\n",
    "from urllib.parse import urlparse\n",
    "import time"
   ]
  },
  {
   "cell_type": "code",
   "execution_count": null,
   "metadata": {
    "collapsed": true
   },
   "outputs": [],
   "source": [
    "class Throttle:\n",
    "    # add a delay between downloads to the same domain\n",
    "    \n",
    "    def __init__(self, delay):\n",
    "        # amount of delay \n",
    "        self.delay = delay\n",
    "        #timestamp of when a domain was last access\n",
    "        self.domain = {}\n",
    "        \n",
    "    def wait(self, url):\n",
    "        domain= urlparse(url).netloc\n",
    "        last_accessed = se"
   ]
  }
 ],
 "metadata": {
  "kernelspec": {
   "display_name": "Python 3",
   "language": "python",
   "name": "python3"
  },
  "language_info": {
   "codemirror_mode": {
    "name": "ipython",
    "version": 3
   },
   "file_extension": ".py",
   "mimetype": "text/x-python",
   "name": "python",
   "nbconvert_exporter": "python",
   "pygments_lexer": "ipython3",
   "version": "3.6.2"
  }
 },
 "nbformat": 4,
 "nbformat_minor": 2
}
