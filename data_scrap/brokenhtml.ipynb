{
 "cells": [
  {
   "cell_type": "code",
   "execution_count": null,
   "metadata": {
    "collapsed": true
   },
   "outputs": [],
   "source": [
    "from bs4 import BeautifulSoup\n",
    "from chp1.advanced_link_crawler import download\n",
    "\n",
    "broken_html = '<ul class=country><li>Area<li>Population</ul>'\n",
    "\n",
    "soup = BeautifulSoup(broken_html, 'html.parser')\n",
    "fixed_html = soup.prettify()\n",
    "print(fixed_html)\n",
    "\n",
    "# still broken, so try a different parser\n",
    "\n",
    "soup = BeautifulSoup(broken_html, 'html5lib')\n",
    "fixed_html = soup.prettify()\n",
    "print(fixed_html)\n",
    "\n",
    "# now we can try and extract the data from the html\n",
    "\n",
    "ul = soup.find('ul', attrs={'class': 'country'})\n",
    "print(ul.find('li'))  # returns just the first match\n",
    "print(ul.find_all('li'))  # returns all matches"
   ]
  }
 ],
 "metadata": {
  "kernelspec": {
   "display_name": "Python 3",
   "language": "python",
   "name": "python3"
  },
  "language_info": {
   "codemirror_mode": {
    "name": "ipython",
    "version": 3
   },
   "file_extension": ".py",
   "mimetype": "text/x-python",
   "name": "python",
   "nbconvert_exporter": "python",
   "pygments_lexer": "ipython3",
   "version": "3.6.2"
  }
 },
 "nbformat": 4,
 "nbformat_minor": 2
}
