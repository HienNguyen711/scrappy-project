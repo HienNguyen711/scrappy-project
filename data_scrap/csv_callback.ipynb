{
 "cells": [
  {
   "cell_type": "code",
   "execution_count": null,
   "metadata": {
    "collapsed": true
   },
   "outputs": [],
   "source": [
    "import csv\n",
    "import re\n",
    "from lxml.html import fromstring\n",
    "\n",
    "\n",
    "class CsvCallback:\n",
    "    def __init__(self):\n",
    "        self.writer = csv.writer(open('../data/countries.csv', 'w'))\n",
    "        self.fields = ('area', 'population', 'iso', 'country', 'capital',\n",
    "                       'continent', 'tld', 'currency_code', 'currency_name',\n",
    "                       'phone', 'postal_code_format', 'postal_code_regex',\n",
    "                       'languages', 'neighbours')\n",
    "        self.writer.writerow(self.fields)\n",
    "\n",
    "    def __call__(self, url, html):\n",
    "        if re.search('/view/', url):\n",
    "            tree = fromstring(html)\n",
    "            all_rows = [\n",
    "                tree.xpath('//tr[@id=\"places_%s__row\"]/td[@class=\"w2p_fw\"]' % field)[0].text_content()\n",
    "                for field in self.fields]\n",
    "            self.writer.writerow(all_rows)"
   ]
  }
 ],
 "metadata": {
  "kernelspec": {
   "display_name": "Python 3",
   "language": "python",
   "name": "python3"
  },
  "language_info": {
   "codemirror_mode": {
    "name": "ipython",
    "version": 3
   },
   "file_extension": ".py",
   "mimetype": "text/x-python",
   "name": "python",
   "nbconvert_exporter": "python",
   "pygments_lexer": "ipython3",
   "version": "3.6.2"
  }
 },
 "nbformat": 4,
 "nbformat_minor": 2
}
