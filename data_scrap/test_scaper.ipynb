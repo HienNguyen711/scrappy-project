{
 "cells": [
  {
   "cell_type": "code",
   "execution_count": null,
   "metadata": {
    "collapsed": true
   },
   "outputs": [],
   "source": [
    "import time\n",
    "import re\n",
    "from data_scrap.all_scrapers import re_scraper, bs_scraper, \\\n",
    "    lxml_scraper, lxml_xpath_scraper\n",
    "# import download from scrap_start\n",
    "\n",
    "NUM_ITERATIONS = 1000  # number of times to test each scraper\n",
    "html = download('http://example.webscraping.com/places/view/United-Kingdom-239')\n",
    "\n",
    "scrapers = [\n",
    "    ('Regular expressions', re_scraper),\n",
    "    ('BeautifulSoup', bs_scraper),\n",
    "    ('Lxml', lxml_scraper),\n",
    "    ('Xpath', lxml_xpath_scraper)]\n",
    "\n",
    "\n",
    "for name, scraper in scrapers:\n",
    "    # record start time of scrap\n",
    "    start = time.time()\n",
    "    for i in range(NUM_ITERATIONS):\n",
    "        if scraper == re\n",
    "\n",
    "\n",
    "\n",
    "\n",
    "\n"
   ]
  }
 ],
 "metadata": {
  "kernelspec": {
   "display_name": "Python 3",
   "language": "python",
   "name": "python3"
  },
  "language_info": {
   "codemirror_mode": {
    "name": "ipython",
    "version": 3
   },
   "file_extension": ".py",
   "mimetype": "text/x-python",
   "name": "python",
   "nbconvert_exporter": "python",
   "pygments_lexer": "ipython3",
   "version": "3.6.2"
  }
 },
 "nbformat": 4,
 "nbformat_minor": 2
}
