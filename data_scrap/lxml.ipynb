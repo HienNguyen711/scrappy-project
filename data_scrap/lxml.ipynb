{
 "cells": [
  {
   "cell_type": "code",
   "execution_count": 4,
   "metadata": {},
   "outputs": [],
   "source": [
    "from lxml.html import fromstring, tostring\n",
    "import cssselect"
   ]
  },
  {
   "cell_type": "code",
   "execution_count": 3,
   "metadata": {},
   "outputs": [
    {
     "name": "stdout",
     "output_type": "stream",
     "text": [
      "b'<ul class=\"country\">\\n<li>Area</li>\\n<li>Population</li>\\n</ul>\\n'\n"
     ]
    }
   ],
   "source": [
    "broken_html = '<ul class=country><li>Area<li>Population</ul>'\n",
    "\n",
    "tree = fromstring(broken_html)  # parse the HTML\n",
    "fixed_html = tostring(tree, pretty_print=True)\n",
    "print(fixed_html)"
   ]
  },
  {
   "cell_type": "code",
   "execution_count": null,
   "metadata": {
    "collapsed": true
   },
   "outputs": [],
   "source": []
  }
 ],
 "metadata": {
  "kernelspec": {
   "display_name": "Python 3",
   "language": "python",
   "name": "python3"
  },
  "language_info": {
   "codemirror_mode": {
    "name": "ipython",
    "version": 3
   },
   "file_extension": ".py",
   "mimetype": "text/x-python",
   "name": "python",
   "nbconvert_exporter": "python",
   "pygments_lexer": "ipython3",
   "version": "3.6.2"
  }
 },
 "nbformat": 4,
 "nbformat_minor": 2
}
