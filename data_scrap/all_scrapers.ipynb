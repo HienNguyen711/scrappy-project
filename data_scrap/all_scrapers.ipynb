{
 "cells": [
  {
   "cell_type": "code",
   "execution_count": null,
   "metadata": {
    "collapsed": true
   },
   "outputs": [],
   "source": [
    "import re\n",
    "from bs4 import BeautifulSoup\n",
    "from lxml.html import fromstring\n",
    "\n",
    "FIELDS = ('area', 'population', 'iso', 'country', 'capital',\n",
    "          'continent', 'tld', 'currency_code', 'currency_name',\n",
    "          'phone', 'postal_code_format', 'postal_code_regex',\n",
    "          'languages', 'neighbours')\n",
    "\n",
    "\n",
    "def re_scraper(html):\n",
    "    \"\"\" Using regex to extract data from country pages. \"\"\"\n",
    "    results = {}\n",
    "    for field in FIELDS:\n",
    "        results[field] = re.search(\n",
    "            '<tr id=\"places_%s__row\">.*?<td class=\"w2p_fw\">(.*?)</td>'\n",
    "            % field, html).groups()[0]\n",
    "    return results\n",
    "\n",
    "\n",
    "def bs_scraper(html):\n",
    "    \"\"\" Using beautifulsoup to extract data from country pages. \"\"\"\n",
    "    soup = BeautifulSoup(html, 'html.parser')\n",
    "    results = {}\n",
    "    for field in FIELDS:\n",
    "        results[field] = soup.find('table').find(\n",
    "            'tr', id='places_%s__row' % field).find(\n",
    "                'td', class_='w2p_fw').text\n",
    "    return results\n",
    "\n",
    "\n",
    "def lxml_scraper(html):\n",
    "    \"\"\" Using lxml and cssselect to extract data from country pages. \"\"\"\n",
    "    tree = fromstring(html)\n",
    "    results = {}\n",
    "    for field in FIELDS:\n",
    "        results[field] = tree.cssselect(\n",
    "            'table > tr#places_%s__row > td.w2p_fw' % field)[0].text_content()\n",
    "    return results\n",
    "\n",
    "\n",
    "def lxml_xpath_scraper(html):\n",
    "    \"\"\" Using lxml and xpath to extract data from country pages. \"\"\"\n",
    "    tree = fromstring(html)\n",
    "    results = {}\n",
    "    for field in FIELDS:\n",
    "        results[field] = tree.xpath(\n",
    "            '//tr[@id=\"places_%s__row\"]/td[@class=\"w2p_fw\"]' % field)[0].text_content()\n",
    "    return results"
   ]
  }
 ],
 "metadata": {
  "kernelspec": {
   "display_name": "Python 3",
   "language": "python",
   "name": "python3"
  },
  "language_info": {
   "codemirror_mode": {
    "name": "ipython",
    "version": 3
   },
   "file_extension": ".py",
   "mimetype": "text/x-python",
   "name": "python",
   "nbconvert_exporter": "python",
   "pygments_lexer": "ipython3",
   "version": "3.6.2"
  }
 },
 "nbformat": 4,
 "nbformat_minor": 2
}
